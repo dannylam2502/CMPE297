{
 "cells": [
  {
   "cell_type": "markdown",
   "id": "97a682fe",
   "metadata": {},
   "source": [
    "# <span style=\"color: blue\"> Week 1 Class Demo</span>"
   ]
  },
  {
   "cell_type": "markdown",
   "id": "2110253a-8c01-4f6c-a001-f684623c539b",
   "metadata": {},
   "source": [
    "# 1. Learn about language model tokenization\n",
    "## 1.1 Tokenizer\n",
    "Tokenization is a fundamental process in NLP that breaks down text into smaller units called tokens. These tokens serve as building blocks for various NLP tasks, including language modeling, text classification, sentiment analysis, and machine translation.<br>\n",
    "Visit the tokenizer link from OpenAI to study how words are tokenized. <br>\n",
    "[Click for Tokenizer Link](https://platform.openai.com/tokenizer)"
   ]
  },
  {
   "cell_type": "markdown",
   "id": "c8badde5",
   "metadata": {},
   "source": [
    "## 1.2 Tiktoken\n",
    "When using LLMs, they normally charge by token number usage. So, it is good even before a call to the LLMs, you have an estimation about the token numbers of your prompts, or knowledge base data. \n",
    "The following is an example to show how to count tokens using *tiktoken*, an OpenAI open source tokenizer."
   ]
  },
  {
   "cell_type": "markdown",
   "id": "a74f129b",
   "metadata": {},
   "source": [
    "### 1.2.1. Install tiktoken"
   ]
  },
  {
   "cell_type": "code",
   "execution_count": 2,
   "id": "d9a430e3",
   "metadata": {
    "scrolled": true
   },
   "outputs": [
    {
     "name": "stdout",
     "output_type": "stream",
     "text": [
      "Requirement already satisfied: tiktoken in c:\\python312\\lib\\site-packages (0.11.0)\n",
      "Requirement already satisfied: regex>=2022.1.18 in c:\\python312\\lib\\site-packages (from tiktoken) (2025.8.29)\n",
      "Requirement already satisfied: requests>=2.26.0 in c:\\python312\\lib\\site-packages (from tiktoken) (2.32.4)\n",
      "Requirement already satisfied: charset_normalizer<4,>=2 in c:\\python312\\lib\\site-packages (from requests>=2.26.0->tiktoken) (3.4.3)\n",
      "Requirement already satisfied: idna<4,>=2.5 in c:\\python312\\lib\\site-packages (from requests>=2.26.0->tiktoken) (3.10)\n",
      "Requirement already satisfied: urllib3<3,>=1.21.1 in c:\\python312\\lib\\site-packages (from requests>=2.26.0->tiktoken) (2.5.0)\n",
      "Requirement already satisfied: certifi>=2017.4.17 in c:\\python312\\lib\\site-packages (from requests>=2.26.0->tiktoken) (2025.8.3)\n",
      "Note: you may need to restart the kernel to use updated packages.\n"
     ]
    },
    {
     "name": "stderr",
     "output_type": "stream",
     "text": [
      "\n",
      "[notice] A new release of pip is available: 23.2.1 -> 25.2\n",
      "[notice] To update, run: python.exe -m pip install --upgrade pip\n"
     ]
    }
   ],
   "source": [
    "%pip install --upgrade tiktoken"
   ]
  },
  {
   "cell_type": "markdown",
   "id": "c2cd337e",
   "metadata": {},
   "source": [
    "### 1.2.2 Import tiktoken"
   ]
  },
  {
   "cell_type": "code",
   "execution_count": 3,
   "id": "1726d587",
   "metadata": {},
   "outputs": [],
   "source": [
    "import tiktoken"
   ]
  },
  {
   "cell_type": "markdown",
   "id": "4a9803a7",
   "metadata": {},
   "source": [
    "### 1.2.3 Load an encoding\n",
    "If you need more information about encoding base for different model of GPT, you could click to get the information.<br>\n",
    "[Click to get different GPT model's encoding bases](https://github.com/openai/tiktoken/blob/main/tiktoken/model.py)"
   ]
  },
  {
   "cell_type": "code",
   "execution_count": 4,
   "id": "e3ad4caa",
   "metadata": {},
   "outputs": [],
   "source": [
    "encoding = tiktoken.get_encoding(\"o200k_base\")\n",
    "#encoding = tiktoken.get_encoding(\"r50k_base\")"
   ]
  },
  {
   "cell_type": "markdown",
   "id": "369dcc84",
   "metadata": {},
   "source": [
    "**You could alternatively use tiktoken.encoding_for_model() to automatically load the correct encoding for a given model name.**"
   ]
  },
  {
   "cell_type": "code",
   "execution_count": 5,
   "id": "588cd482",
   "metadata": {},
   "outputs": [],
   "source": [
    "#encoding = tiktoken.encoding_for_model(\"gpt-4o\")"
   ]
  },
  {
   "cell_type": "markdown",
   "id": "ace5a39b",
   "metadata": {},
   "source": [
    "## 1.2.4 Turn text into tokens with encoding.encode()\n",
    "\n",
    "The `.encode()` method converts a text string into a list of token integers."
   ]
  },
  {
   "cell_type": "code",
   "execution_count": 6,
   "id": "31778497",
   "metadata": {},
   "outputs": [
    {
     "name": "stdout",
     "output_type": "stream",
     "text": [
      "39\n"
     ]
    }
   ],
   "source": [
    "words = \"I am interested in taking a course on Natural Language Processing (NLP) to learn how to effectively utilize Large Language Models (LLMs) for assistance. Within the next 11 weeks, my goal is to develop and present my own ChatBot.\"\n",
    "word_len = len(words.split())\n",
    "print(word_len)"
   ]
  },
  {
   "cell_type": "markdown",
   "id": "da0a0207",
   "metadata": {},
   "source": [
    "**Now, let's see what is the encoded result.**"
   ]
  },
  {
   "cell_type": "code",
   "execution_count": 7,
   "id": "2e0bee95",
   "metadata": {
    "scrolled": true
   },
   "outputs": [
    {
     "name": "stdout",
     "output_type": "stream",
     "text": [
      "The encoded result is:  [40, 939, 9445, 306, 6167, 261, 4165, 402, 23735, 20333, 44532, 350, 45, 19318, 8, 316, 4484, 1495, 316, 18130, 24570, 27976, 20333, 50258, 350, 7454, 25153, 8, 395, 14647, 13, 35552, 290, 2613, 220, 994, 7449, 11, 922, 8583, 382, 316, 2575, 326, 3333, 922, 2316, 17554, 25814, 13]\n"
     ]
    }
   ],
   "source": [
    "encoded = encoding.encode(words)\n",
    "print(\"The encoded result is: \", encoded)"
   ]
  },
  {
   "cell_type": "markdown",
   "id": "7edb32be",
   "metadata": {},
   "source": [
    "## 1.2.5 Let's find out the encoded length and the **word:token ratio**"
   ]
  },
  {
   "cell_type": "code",
   "execution_count": 8,
   "id": "08ac3219",
   "metadata": {},
   "outputs": [
    {
     "name": "stdout",
     "output_type": "stream",
     "text": [
      "Length of token:  50\n",
      "Word: token ratio is:  0.78\n"
     ]
    }
   ],
   "source": [
    "print(\"Length of token: \", len(encoded))\n",
    "print(\"Word: token ratio is: \", word_len/len(encoded))"
   ]
  },
  {
   "cell_type": "markdown",
   "id": "1424ced1",
   "metadata": {},
   "source": [
    "# 2. Environment Preparation\n",
    "        !pip install python-dotenv\n",
    "        !pip install openai"
   ]
  },
  {
   "cell_type": "code",
   "execution_count": 9,
   "id": "c055fa93-9dff-4246-9240-b073b64e9618",
   "metadata": {},
   "outputs": [
    {
     "name": "stdout",
     "output_type": "stream",
     "text": [
      "Requirement already satisfied: python-dotenv in c:\\python312\\lib\\site-packages (1.1.1)\n"
     ]
    },
    {
     "name": "stderr",
     "output_type": "stream",
     "text": [
      "\n",
      "[notice] A new release of pip is available: 23.2.1 -> 25.2\n",
      "[notice] To update, run: python.exe -m pip install --upgrade pip\n"
     ]
    },
    {
     "name": "stdout",
     "output_type": "stream",
     "text": [
      "Requirement already satisfied: numpy in c:\\python312\\lib\\site-packages (2.1.3)\n"
     ]
    },
    {
     "name": "stderr",
     "output_type": "stream",
     "text": [
      "\n",
      "[notice] A new release of pip is available: 23.2.1 -> 25.2\n",
      "[notice] To update, run: python.exe -m pip install --upgrade pip\n"
     ]
    },
    {
     "name": "stdout",
     "output_type": "stream",
     "text": [
      "Requirement already satisfied: scikit-learn in c:\\python312\\lib\\site-packages (1.6.1)\n",
      "Requirement already satisfied: numpy>=1.19.5 in c:\\python312\\lib\\site-packages (from scikit-learn) (2.1.3)\n",
      "Requirement already satisfied: scipy>=1.6.0 in c:\\python312\\lib\\site-packages (from scikit-learn) (1.14.1)\n",
      "Requirement already satisfied: joblib>=1.2.0 in c:\\python312\\lib\\site-packages (from scikit-learn) (1.5.1)\n",
      "Requirement already satisfied: threadpoolctl>=3.1.0 in c:\\python312\\lib\\site-packages (from scikit-learn) (3.6.0)\n"
     ]
    },
    {
     "name": "stderr",
     "output_type": "stream",
     "text": [
      "\n",
      "[notice] A new release of pip is available: 23.2.1 -> 25.2\n",
      "[notice] To update, run: python.exe -m pip install --upgrade pip\n"
     ]
    }
   ],
   "source": [
    "!pip install python-dotenv\n",
    "!pip install numpy\n",
    "!pip install scikit-learn"
   ]
  },
  {
   "cell_type": "code",
   "execution_count": 10,
   "id": "62fa0141-e124-40d6-9546-980eb8d533f9",
   "metadata": {},
   "outputs": [
    {
     "name": "stdout",
     "output_type": "stream",
     "text": [
      "Requirement already satisfied: openai in c:\\python312\\lib\\site-packages (1.108.1)\n",
      "Requirement already satisfied: anyio<5,>=3.5.0 in c:\\python312\\lib\\site-packages (from openai) (4.10.0)\n",
      "Requirement already satisfied: distro<2,>=1.7.0 in c:\\python312\\lib\\site-packages (from openai) (1.9.0)\n",
      "Requirement already satisfied: httpx<1,>=0.23.0 in c:\\python312\\lib\\site-packages (from openai) (0.28.1)\n",
      "Requirement already satisfied: jiter<1,>=0.4.0 in c:\\python312\\lib\\site-packages (from openai) (0.11.0)\n",
      "Requirement already satisfied: pydantic<3,>=1.9.0 in c:\\python312\\lib\\site-packages (from openai) (2.11.9)\n",
      "Requirement already satisfied: sniffio in c:\\python312\\lib\\site-packages (from openai) (1.3.1)\n",
      "Requirement already satisfied: tqdm>4 in c:\\python312\\lib\\site-packages (from openai) (4.67.1)\n",
      "Requirement already satisfied: typing-extensions<5,>=4.11 in c:\\python312\\lib\\site-packages (from openai) (4.14.1)\n",
      "Requirement already satisfied: idna>=2.8 in c:\\python312\\lib\\site-packages (from anyio<5,>=3.5.0->openai) (3.10)\n",
      "Requirement already satisfied: certifi in c:\\python312\\lib\\site-packages (from httpx<1,>=0.23.0->openai) (2025.8.3)\n",
      "Requirement already satisfied: httpcore==1.* in c:\\python312\\lib\\site-packages (from httpx<1,>=0.23.0->openai) (1.0.9)\n",
      "Requirement already satisfied: h11>=0.16 in c:\\python312\\lib\\site-packages (from httpcore==1.*->httpx<1,>=0.23.0->openai) (0.16.0)\n",
      "Requirement already satisfied: annotated-types>=0.6.0 in c:\\python312\\lib\\site-packages (from pydantic<3,>=1.9.0->openai) (0.7.0)\n",
      "Requirement already satisfied: pydantic-core==2.33.2 in c:\\python312\\lib\\site-packages (from pydantic<3,>=1.9.0->openai) (2.33.2)\n",
      "Requirement already satisfied: typing-inspection>=0.4.0 in c:\\python312\\lib\\site-packages (from pydantic<3,>=1.9.0->openai) (0.4.1)\n",
      "Requirement already satisfied: colorama in c:\\users\\danny lam\\appdata\\roaming\\python\\python312\\site-packages (from tqdm>4->openai) (0.4.6)\n"
     ]
    },
    {
     "name": "stderr",
     "output_type": "stream",
     "text": [
      "\n",
      "[notice] A new release of pip is available: 23.2.1 -> 25.2\n",
      "[notice] To update, run: python.exe -m pip install --upgrade pip\n"
     ]
    }
   ],
   "source": [
    "!pip install openai"
   ]
  },
  {
   "cell_type": "code",
   "execution_count": null,
   "id": "39d8a1b7",
   "metadata": {},
   "outputs": [],
   "source": []
  },
  {
   "cell_type": "code",
   "execution_count": 11,
   "id": "ab6e1d6a-9541-459d-bbfd-e57585459d89",
   "metadata": {},
   "outputs": [
    {
     "name": "stdout",
     "output_type": "stream",
     "text": [
      "Requirement already satisfied: scikit-learn in c:\\python312\\lib\\site-packages (1.6.1)\n",
      "Requirement already satisfied: numpy>=1.19.5 in c:\\python312\\lib\\site-packages (from scikit-learn) (2.1.3)\n",
      "Requirement already satisfied: scipy>=1.6.0 in c:\\python312\\lib\\site-packages (from scikit-learn) (1.14.1)\n",
      "Requirement already satisfied: joblib>=1.2.0 in c:\\python312\\lib\\site-packages (from scikit-learn) (1.5.1)\n",
      "Requirement already satisfied: threadpoolctl>=3.1.0 in c:\\python312\\lib\\site-packages (from scikit-learn) (3.6.0)\n"
     ]
    },
    {
     "name": "stderr",
     "output_type": "stream",
     "text": [
      "\n",
      "[notice] A new release of pip is available: 23.2.1 -> 25.2\n",
      "[notice] To update, run: python.exe -m pip install --upgrade pip\n"
     ]
    },
    {
     "name": "stdout",
     "output_type": "stream",
     "text": [
      "Requirement already satisfied: matplotlib in c:\\python312\\lib\\site-packages (3.10.3)\n",
      "Requirement already satisfied: contourpy>=1.0.1 in c:\\python312\\lib\\site-packages (from matplotlib) (1.3.2)\n",
      "Requirement already satisfied: cycler>=0.10 in c:\\python312\\lib\\site-packages (from matplotlib) (0.12.1)\n",
      "Requirement already satisfied: fonttools>=4.22.0 in c:\\python312\\lib\\site-packages (from matplotlib) (4.58.0)\n",
      "Requirement already satisfied: kiwisolver>=1.3.1 in c:\\python312\\lib\\site-packages (from matplotlib) (1.4.8)\n",
      "Requirement already satisfied: numpy>=1.23 in c:\\python312\\lib\\site-packages (from matplotlib) (2.1.3)\n",
      "Requirement already satisfied: packaging>=20.0 in c:\\users\\danny lam\\appdata\\roaming\\python\\python312\\site-packages (from matplotlib) (24.2)\n",
      "Requirement already satisfied: pillow>=8 in c:\\python312\\lib\\site-packages (from matplotlib) (11.1.0)\n",
      "Requirement already satisfied: pyparsing>=2.3.1 in c:\\python312\\lib\\site-packages (from matplotlib) (3.2.3)\n",
      "Requirement already satisfied: python-dateutil>=2.7 in c:\\users\\danny lam\\appdata\\roaming\\python\\python312\\site-packages (from matplotlib) (2.9.0.post0)\n",
      "Requirement already satisfied: six>=1.5 in c:\\users\\danny lam\\appdata\\roaming\\python\\python312\\site-packages (from python-dateutil>=2.7->matplotlib) (1.17.0)\n"
     ]
    },
    {
     "name": "stderr",
     "output_type": "stream",
     "text": [
      "\n",
      "[notice] A new release of pip is available: 23.2.1 -> 25.2\n",
      "[notice] To update, run: python.exe -m pip install --upgrade pip\n"
     ]
    }
   ],
   "source": [
    "!pip3 install scikit-learn\n",
    "!pip3 install matplotlib"
   ]
  },
  {
   "cell_type": "markdown",
   "id": "8c9f5cad-228c-444e-9939-a31d5698dcae",
   "metadata": {},
   "source": [
    "Use the python command to load your .env file if it is not located at the working directory, the Jupyter Notebook working directory.\n",
    "\n",
    "`\n",
    "    load_dotenv(dotenv_path=\"C:/path/to/your/.env\")\n",
    "`"
   ]
  },
  {
   "cell_type": "code",
   "execution_count": 12,
   "id": "200671af-b475-48cc-b86b-a6d8b122aa59",
   "metadata": {},
   "outputs": [],
   "source": [
    "import numpy as np\n",
    "from sklearn.manifold import TSNE\n",
    "from ast import literal_eval\n",
    "import matplotlib.pyplot as plt\n",
    "import re\n",
    "\n",
    "import os\n",
    "from dotenv import load_dotenv"
   ]
  },
  {
   "cell_type": "code",
   "execution_count": 15,
   "id": "819c93c9-a709-46e9-ac5f-103e66a35132",
   "metadata": {},
   "outputs": [
    {
     "name": "stderr",
     "output_type": "stream",
     "text": [
      "<>:1: SyntaxWarning: invalid escape sequence '\\S'\n",
      "<>:1: SyntaxWarning: invalid escape sequence '\\S'\n",
      "C:\\Users\\Danny Lam\\AppData\\Local\\Temp\\ipykernel_22408\\1159843725.py:1: SyntaxWarning: invalid escape sequence '\\S'\n",
      "  load_dotenv(\"C:\\Study\\CMPE297\\Homework\\Week1\\w1.env\")\n"
     ]
    },
    {
     "data": {
      "text/plain": [
       "True"
      ]
     },
     "execution_count": 15,
     "metadata": {},
     "output_type": "execute_result"
    }
   ],
   "source": [
    "load_dotenv(\"C:\\Study\\CMPE297\\Homework\\Week1\\w1.env\")"
   ]
  },
  {
   "cell_type": "code",
   "execution_count": 16,
   "id": "edc44f01-fad2-42cb-b553-7c22c661bc15",
   "metadata": {},
   "outputs": [],
   "source": [
    "from openai import OpenAI\n",
    "client = OpenAI()"
   ]
  },
  {
   "cell_type": "code",
   "execution_count": null,
   "id": "31febf8a",
   "metadata": {},
   "outputs": [],
   "source": [
    "#load the OPENAI_API_KEY\n",
    "api_key = os.getenv(\"OPENAI_API_KEY\")\n",
    "print(api_key)"
   ]
  },
  {
   "cell_type": "markdown",
   "id": "d049f907-710a-409d-8a0e-3af666c3d4c4",
   "metadata": {},
   "source": [
    "# 3. Embeddings"
   ]
  },
  {
   "cell_type": "code",
   "execution_count": 10,
   "id": "947dd93c-b589-466c-a70b-3f292e338798",
   "metadata": {},
   "outputs": [],
   "source": [
    "words = [\\\n",
    "\"man\", \"woman\", \"boy\", \"person\", \"gentleman\", \"male\", \"female\", \"human\", \"guy\", \"lad\", \"girl\", \"adult\", \"youth\", \\\n",
    "\"child\", \"husband\", \"father\", \"son\", \"brother\", \"uncle\", \"nephew\", \"grandfather\", \"kid\", \"teenager\",  \"lad\", \"teen\",\\\n",
    "\n",
    "\"apple\", \"orange\", \"banana\", \"pear\", \"fruit\", \"grape\", \"cherry\", \"strawberry\", \"peach\", \"plum\", \"berry\", \"lemon\", \"kiwi\", \"melon\",\\\n",
    "\"pineapple\", \"mango\", \"grapefruit\", \"watermelon\", \"raspberry\", \"blueberry\", \"pomegranate\", \"apricot\", \\\n",
    "\"lime\", \"nectarine\", \"tangerine\", \"papaya\", \"guava\", \"blackberry\", \"cranberry\", \"orchard\",\n",
    "\n",
    "        \n",
    "\"bank\", \"finance\", \"money\", \"river\", \"loan\", \"deposit\", \"credit\", \"financial\", \"institution\", \"savings\", \"account\", \"lender\", \\\n",
    "\"mortgage\", \"cash\", \"fund\", \"investment\", \"shore\", \"riverbank\", \"banking\", \"currency\", \"debit\", \"vault\", \"commerce\", \"transaction\", \\\n",
    "\"capital\", \"wealth\", \"brokerage\", \"riverside\", \"economy\", \"teller\",\n",
    "\n",
    "   \n",
    "\n",
    "]\n",
    "\n",
    "#words = [\"king\", \"man\", \"woman\", \"queen\"]"
   ]
  },
  {
   "cell_type": "code",
   "execution_count": 11,
   "id": "6fbfdd1c-aada-48c0-b436-6f43f410286a",
   "metadata": {},
   "outputs": [
    {
     "data": {
      "text/plain": [
       "85"
      ]
     },
     "execution_count": 11,
     "metadata": {},
     "output_type": "execute_result"
    }
   ],
   "source": [
    "len(words)"
   ]
  },
  {
   "cell_type": "code",
   "execution_count": 12,
   "id": "98582587-523f-4fa9-9b6d-82cafe4e6115",
   "metadata": {},
   "outputs": [],
   "source": [
    "model=\"text-embedding-3-small\"\n",
    "\n",
    "res = client.embeddings.create(input = [\"man\"], model=model)"
   ]
  },
  {
   "cell_type": "code",
   "execution_count": 13,
   "id": "36d25b54-40e3-4759-ae0c-e02b06fce112",
   "metadata": {},
   "outputs": [
    {
     "data": {
      "text/plain": [
       "[0.038761477917432785,\n",
       " 0.00038446576218120754,\n",
       " 0.016608253121376038,\n",
       " 0.023912686854600906,\n",
       " -0.00939712580293417,\n",
       " -0.05896863341331482,\n",
       " -0.009657046757638454,\n",
       " 0.007844267413020134,\n",
       " -0.002955762669444084,\n",
       " -0.02369941771030426]"
      ]
     },
     "execution_count": 13,
     "metadata": {},
     "output_type": "execute_result"
    }
   ],
   "source": [
    "res.data[0].embedding[:10]"
   ]
  },
  {
   "cell_type": "code",
   "execution_count": 14,
   "id": "aa291a5e-b980-4d7c-8a4d-69fd5a51e1fa",
   "metadata": {},
   "outputs": [
    {
     "data": {
      "text/plain": [
       "1536"
      ]
     },
     "execution_count": 14,
     "metadata": {},
     "output_type": "execute_result"
    }
   ],
   "source": [
    "len(res.data[0].embedding)"
   ]
  },
  {
   "cell_type": "markdown",
   "id": "e6256e36-1e7d-45f2-8634-5cd2cb82154e",
   "metadata": {},
   "source": [
    "**We could do embedding not only for a word, but for a sentence or paragraph.**"
   ]
  },
  {
   "cell_type": "code",
   "execution_count": 15,
   "id": "7177315f-a19e-4e2f-bfcb-13c7e9d75c34",
   "metadata": {},
   "outputs": [],
   "source": [
    "def get_embedding(text, model=\"text-embedding-3-small\"):\n",
    "   text = text.replace(\"\\n\", \" \")\n",
    "   return client.embeddings.create(input = [text], model=model).data[0].embedding"
   ]
  },
  {
   "cell_type": "code",
   "execution_count": 16,
   "id": "5bc040ef-2282-41c8-8907-9f1b165d221f",
   "metadata": {},
   "outputs": [
    {
     "data": {
      "text/plain": [
       "[0.038752373307943344,\n",
       " 0.0004125607665628195,\n",
       " 0.01661578007042408,\n",
       " 0.023923523724079132,\n",
       " -0.009394717402756214,\n",
       " -0.05899535492062569,\n",
       " -0.009674758650362492,\n",
       " 0.007867825217545033,\n",
       " -0.0029671036172658205,\n",
       " -0.02372349426150322,\n",
       " 0.012188461609184742,\n",
       " 0.007614454720169306,\n",
       " -0.008427907712757587,\n",
       " -0.022456640377640724,\n",
       " 0.015135562978684902,\n",
       " 0.006350935436785221,\n",
       " -0.04675355181097984,\n",
       " -0.02813747711479664,\n",
       " 0.014842186123132706,\n",
       " 0.012781882658600807,\n",
       " 0.02596382424235344,\n",
       " 0.0525677427649498,\n",
       " 0.015842333436012268,\n",
       " -0.01706918142735958,\n",
       " -0.051980990916490555,\n",
       " 0.042912986129522324,\n",
       " -0.026790613308548927,\n",
       " 0.03528519719839096,\n",
       " 0.035205185413360596,\n",
       " -0.02776408940553665,\n",
       " 0.010974950157105923,\n",
       " -0.02792411297559738,\n",
       " 0.011655050329864025,\n",
       " -0.02388351783156395,\n",
       " 0.0230833999812603,\n",
       " 0.008827966637909412,\n",
       " 0.010014808736741543,\n",
       " -0.020563028752803802,\n",
       " -0.0059875487349927425,\n",
       " -0.015375598333775997,\n",
       " -0.038592349737882614,\n",
       " -0.04582008346915245,\n",
       " 0.005067413207143545,\n",
       " -0.03149797394871712,\n",
       " 0.04101937636733055,\n",
       " -0.03547189012169838,\n",
       " -0.052167683839797974,\n",
       " 0.0043539744801819324,\n",
       " 0.021883223205804825,\n",
       " 0.017589258030056953,\n",
       " 0.0020169636700302362,\n",
       " 0.0004090185684617609,\n",
       " 0.05350121483206749,\n",
       " 0.09244028478860855,\n",
       " 0.0644361600279808,\n",
       " -0.002231995342299342,\n",
       " 2.183915421483107e-05,\n",
       " 0.014215427450835705,\n",
       " 0.03595196083188057,\n",
       " -0.019896263256669044,\n",
       " -0.022429971024394035,\n",
       " 0.030857877805829048,\n",
       " -0.041099388152360916,\n",
       " -0.02058969996869564,\n",
       " -0.025217046961188316,\n",
       " -0.04357975348830223,\n",
       " -0.007574448827654123,\n",
       " 0.03499181941151619,\n",
       " -0.03240477293729782,\n",
       " -0.006927687209099531,\n",
       " 0.0525677427649498,\n",
       " 0.0054107969626784325,\n",
       " -0.02779076062142849,\n",
       " 0.050727471709251404,\n",
       " -0.005120754241943359,\n",
       " -0.005527480971068144,\n",
       " -0.01581566222012043,\n",
       " -0.008881308138370514,\n",
       " -0.03144463151693344,\n",
       " 0.033791642636060715,\n",
       " -0.04325970634818077,\n",
       " -0.022483311593532562,\n",
       " -0.009488063864409924,\n",
       " 0.0022136594634503126,\n",
       " -0.003857234725728631,\n",
       " -0.02337677590548992,\n",
       " -0.053421203047037125,\n",
       " 0.027110660448670387,\n",
       " 0.06817004084587097,\n",
       " -0.06112900376319885,\n",
       " -0.0020403005182743073,\n",
       " 0.008187872357666492,\n",
       " -0.0129685765132308,\n",
       " 0.014335445128381252,\n",
       " 0.008814631961286068,\n",
       " -0.04379311576485634,\n",
       " -0.015175568871200085,\n",
       " 0.03469844534993172,\n",
       " 0.028057465329766273,\n",
       " 0.025723788887262344,\n",
       " 0.08283887058496475,\n",
       " 0.01606903411448002,\n",
       " 0.06838340312242508,\n",
       " 0.035845279693603516,\n",
       " -0.017655933275818825,\n",
       " -0.0016552438028156757,\n",
       " -0.006354269105941057,\n",
       " 0.0023003388196229935,\n",
       " -0.020349664613604546,\n",
       " 0.04907389357686043,\n",
       " -0.012368488125503063,\n",
       " -0.03389832749962807,\n",
       " -0.03493848070502281,\n",
       " 0.03909909352660179,\n",
       " 0.018256021663546562,\n",
       " 0.006941022351384163,\n",
       " 0.05846194550395012,\n",
       " 0.004814042244106531,\n",
       " -0.021016428247094154,\n",
       " -0.0056975060142576694,\n",
       " 0.037285491824150085,\n",
       " 0.01700250431895256,\n",
       " 0.02010962925851345,\n",
       " -0.08139865845441818,\n",
       " 0.0012910234509035945,\n",
       " 0.02058969996869564,\n",
       " -0.009788108058273792,\n",
       " -0.0016344074392691255,\n",
       " -0.05606159195303917,\n",
       " -0.001990293152630329,\n",
       " -0.03845899924635887,\n",
       " -0.018496057018637657,\n",
       " 0.01461548637598753,\n",
       " -0.043179694563150406,\n",
       " -0.05398128554224968,\n",
       " -0.009841449558734894,\n",
       " -0.00021211458079051226,\n",
       " 0.016082368791103363,\n",
       " -0.06048890948295593,\n",
       " -0.01594901643693447,\n",
       " 0.043233033269643784,\n",
       " -0.03605864569544792,\n",
       " -0.05288778990507126,\n",
       " -0.03192470222711563,\n",
       " 0.0037105465307831764,\n",
       " 0.02305672876536846,\n",
       " 0.0058275251649320126,\n",
       " 0.03741884604096413,\n",
       " -0.02363014779984951,\n",
       " 0.029310984537005424,\n",
       " 0.003427171381190419,\n",
       " 0.014802180230617523,\n",
       " -0.015428938902914524,\n",
       " -0.035418551415205,\n",
       " -0.02317674644291401,\n",
       " -0.032831501215696335,\n",
       " -0.025883812457323074,\n",
       " -0.0035138509701937437,\n",
       " -0.07003698498010635,\n",
       " -0.003597196424379945,\n",
       " 0.021203123033046722,\n",
       " -0.02877757139503956,\n",
       " -0.006187578197568655,\n",
       " 0.0043206363916397095,\n",
       " 0.017949311062693596,\n",
       " 0.020376333966851234,\n",
       " -0.024630295112729073,\n",
       " -0.038752373307943344,\n",
       " -0.04536668211221695,\n",
       " -0.021456493064761162,\n",
       " -0.010248175822198391,\n",
       " 0.04392646998167038,\n",
       " -0.018709423020482063,\n",
       " -0.01562896929681301,\n",
       " 0.009521402418613434,\n",
       " -0.009488063864409924,\n",
       " 0.030057759955525398,\n",
       " -0.018496057018637657,\n",
       " -0.03741884604096413,\n",
       " 0.006160907447338104,\n",
       " 0.021189788356423378,\n",
       " 0.061555732041597366,\n",
       " 0.007494437042623758,\n",
       " -0.03723214939236641,\n",
       " 0.03277816250920296,\n",
       " -0.015135562978684902,\n",
       " 0.0020119629334658384,\n",
       " 0.0054107969626784325,\n",
       " 0.04357975348830223,\n",
       " 0.012908567674458027,\n",
       " 0.004460657015442848,\n",
       " 0.042112868279218674,\n",
       " 0.0587286502122879,\n",
       " 0.040325939655303955,\n",
       " 0.048167094588279724,\n",
       " -0.03096456080675125,\n",
       " 0.011121638119220734,\n",
       " -0.0075944517739117146,\n",
       " 0.02952434867620468,\n",
       " -0.0006130069377832115,\n",
       " 0.03019111417233944,\n",
       " -0.010488211177289486,\n",
       " 0.00040505966171622276,\n",
       " -0.013035253621637821,\n",
       " 0.0005225769709795713,\n",
       " -0.020949753001332283,\n",
       " -0.03581861034035683,\n",
       " -0.01574898697435856,\n",
       " 0.018736092373728752,\n",
       " -0.05718175694346428,\n",
       " 0.08838634938001633,\n",
       " -0.01326862070709467,\n",
       " 0.03773889318108559,\n",
       " 0.014335445128381252,\n",
       " -0.022136593237519264,\n",
       " -0.007601119577884674,\n",
       " 0.004637349862605333,\n",
       " 0.018069328740239143,\n",
       " -0.04758034273982048,\n",
       " -0.007054372224956751,\n",
       " -0.02337677590548992,\n",
       " 0.060275543481111526,\n",
       " 0.06134236976504326,\n",
       " 0.009848116897046566,\n",
       " -0.01170172356069088,\n",
       " 0.03973918780684471,\n",
       " -0.016402415931224823,\n",
       " -0.036645397543907166,\n",
       " -0.011228320188820362,\n",
       " -0.04187283292412758,\n",
       " -0.011435017921030521,\n",
       " -0.009808111004531384,\n",
       " -0.02241663448512554,\n",
       " 0.004423984792083502,\n",
       " -0.036805421113967896,\n",
       " 0.041259411722421646,\n",
       " 0.018002651631832123,\n",
       " -0.01706918142735958,\n",
       " -0.018736092373728752,\n",
       " -0.003370496444404125,\n",
       " -0.038912396878004074,\n",
       " -0.015668975189328194,\n",
       " -0.00023503461852669716,\n",
       " 0.009521402418613434,\n",
       " 0.015335592441260815,\n",
       " 0.00782781932502985,\n",
       " 0.02013629861176014,\n",
       " -0.014508803375065327,\n",
       " -0.002870422787964344,\n",
       " -0.012241803109645844,\n",
       " 0.0914267972111702,\n",
       " -0.020536357536911964,\n",
       " -0.013068591244518757,\n",
       " -0.029017606750130653,\n",
       " -0.032671477645635605,\n",
       " 0.06470286101102829,\n",
       " -0.011315000243484974,\n",
       " 0.00787449348717928,\n",
       " 0.05126088485121727,\n",
       " 0.006914351601153612,\n",
       " -0.0466202013194561,\n",
       " 0.028004124760627747,\n",
       " 0.0015443941811099648,\n",
       " 0.0032288089860230684,\n",
       " -0.04165947064757347,\n",
       " -0.006270923651754856,\n",
       " -0.01946953497827053,\n",
       " 0.005127422045916319,\n",
       " 0.030457818880677223,\n",
       " 0.014682162553071976,\n",
       " 0.009721431881189346,\n",
       " 0.007141051813960075,\n",
       " -0.00798784289509058,\n",
       " -0.014268768019974232,\n",
       " -0.06614307314157486,\n",
       " 0.039339128881692886,\n",
       " 0.062355849891901016,\n",
       " 0.05675502493977547,\n",
       " -0.0571284145116806,\n",
       " 0.012608523480594158,\n",
       " -0.05542149767279625,\n",
       " 0.03461843356490135,\n",
       " 0.03597863391041756,\n",
       " -0.007347749080508947,\n",
       " -0.01878943480551243,\n",
       " 0.040806010365486145,\n",
       " 0.041952844709157944,\n",
       " -0.01109496783465147,\n",
       " 0.02877757139503956,\n",
       " -0.006784332450479269,\n",
       " -0.003140462562441826,\n",
       " -0.01738922856748104,\n",
       " 0.04806041345000267,\n",
       " 0.015855668112635612,\n",
       " 0.006304261740297079,\n",
       " 0.01830936409533024,\n",
       " -0.011641714721918106,\n",
       " -0.04907389357686043,\n",
       " -0.02667059563100338,\n",
       " 0.013315294869244099,\n",
       " 0.024603623896837234,\n",
       " 0.006417612079530954,\n",
       " -0.004910723306238651,\n",
       " 0.02058969996869564,\n",
       " -0.016335738822817802,\n",
       " 0.060595590621232986,\n",
       " 0.008774626068770885,\n",
       " -0.02973771281540394,\n",
       " 0.02413688786327839,\n",
       " -0.047687023878097534,\n",
       " -0.015295586548745632,\n",
       " -0.027390701696276665,\n",
       " -0.012528511695563793,\n",
       " -0.023750165477395058,\n",
       " -0.027684077620506287,\n",
       " -0.04888720065355301,\n",
       " -0.00568417040631175,\n",
       " 0.090946726500988,\n",
       " -0.007214395795017481,\n",
       " -0.02321675233542919,\n",
       " -0.005197432357817888,\n",
       " -0.017695939168334007,\n",
       " -0.028830913826823235,\n",
       " -0.008594599552452564,\n",
       " -0.03739217296242714,\n",
       " 0.01460215076804161,\n",
       " -0.015055551193654537,\n",
       " -0.04312635213136673,\n",
       " 0.050567448139190674,\n",
       " -0.02701731212437153,\n",
       " -0.029284313321113586,\n",
       " -0.0007280238787643611,\n",
       " -0.005360789597034454,\n",
       " 0.01010148786008358,\n",
       " 0.042246222496032715,\n",
       " 0.005350788123905659,\n",
       " 0.02561710588634014,\n",
       " 0.06779665499925613,\n",
       " -0.02699064277112484,\n",
       " -0.02843085490167141,\n",
       " -0.04395313933491707,\n",
       " -0.039845868945121765,\n",
       " -0.02596382424235344,\n",
       " 0.02829750068485737,\n",
       " -0.04187283292412758,\n",
       " 0.018416045233607292,\n",
       " 0.0619291216135025,\n",
       " 0.017309216782450676,\n",
       " -0.02209658734500408,\n",
       " 0.022176599130034447,\n",
       " 0.009261364117264748,\n",
       " 0.02301672287285328,\n",
       " -0.018549399450421333,\n",
       " 0.0035438553895801306,\n",
       " -0.004790705628693104,\n",
       " 0.013075259514153004,\n",
       " 0.03147130087018013,\n",
       " -0.0020052953623235226,\n",
       " 0.008161202073097229,\n",
       " 0.01642908714711666,\n",
       " -0.03544522076845169,\n",
       " -0.011981764808297157,\n",
       " -0.011214985512197018,\n",
       " 0.005337452981621027,\n",
       " -0.0054441350512206554,\n",
       " -0.003727215575054288,\n",
       " -0.047206953167915344,\n",
       " -0.005834192503243685,\n",
       " 0.06182244047522545,\n",
       " -0.004950729198753834,\n",
       " -0.02728401869535446,\n",
       " -0.00377388927154243,\n",
       " -0.01310859713703394,\n",
       " 0.007201060652732849,\n",
       " -0.02529705874621868,\n",
       " 0.05510145053267479,\n",
       " 0.0022419968154281378,\n",
       " 0.040352609008550644,\n",
       " -0.03605864569544792,\n",
       " -0.02285669930279255,\n",
       " -0.007967839948832989,\n",
       " 0.039845868945121765,\n",
       " 0.0268572885543108,\n",
       " -0.05032741278409958,\n",
       " -0.025083694607019424,\n",
       " -0.01310859713703394,\n",
       " -0.036191996186971664,\n",
       " 0.00233367714099586,\n",
       " 0.0284575242549181,\n",
       " -0.04819376394152641,\n",
       " 0.048007071018218994,\n",
       " -0.02680394798517227,\n",
       " 0.011715059168636799,\n",
       " 0.006057559046894312,\n",
       " -0.028164148330688477,\n",
       " -0.03192470222711563,\n",
       " 0.04552670568227768,\n",
       " 0.014815515838563442,\n",
       " -0.03912576287984848,\n",
       " 0.024963676929473877,\n",
       " 0.04520665854215622,\n",
       " 0.001408540760166943,\n",
       " 0.006397609133273363,\n",
       " 0.026550577953457832,\n",
       " -0.02635054849088192,\n",
       " -0.011134973727166653,\n",
       " -0.045099977403879166,\n",
       " 0.027364030480384827,\n",
       " -0.024563618004322052,\n",
       " -0.022043246775865555,\n",
       " 0.026403889060020447,\n",
       " -0.021296469494700432,\n",
       " 0.05435467138886452,\n",
       " 0.07067707926034927,\n",
       " -0.0015727316495031118,\n",
       " -0.013161938637495041,\n",
       " 0.023803506046533585,\n",
       " 0.012101782485842705,\n",
       " 0.0007746974588371813,\n",
       " -0.0028320837300270796,\n",
       " -0.02824416011571884,\n",
       " -0.04075266793370247,\n",
       " -0.011715059168636799,\n",
       " 0.01278854999691248,\n",
       " 0.02401687018573284,\n",
       " 0.03528519719839096,\n",
       " 0.045606717467308044,\n",
       " -0.015775656327605247,\n",
       " 0.029977748170495033,\n",
       " -0.009928128682076931,\n",
       " 0.038085609674453735,\n",
       " 0.01412208005785942,\n",
       " -0.026750607416033745,\n",
       " 0.012295144610106945,\n",
       " -0.05808855593204498,\n",
       " -0.041312750428915024,\n",
       " -0.007554445881396532,\n",
       " 0.004220621660351753,\n",
       " -0.009241361171007156,\n",
       " 0.01946953497827053,\n",
       " -0.01962955854833126,\n",
       " -0.02289670519530773,\n",
       " 0.027070654556155205,\n",
       " 6.68327629682608e-05,\n",
       " 0.010508214123547077,\n",
       " -0.008614602498710155,\n",
       " -0.01972290500998497,\n",
       " 0.011328334920108318,\n",
       " -0.029310984537005424,\n",
       " -0.03973918780684471,\n",
       " -0.01477550994604826,\n",
       " -0.0050440761260688305,\n",
       " -0.0040339273400604725,\n",
       " 0.017082516103982925,\n",
       " 0.023363441228866577,\n",
       " 0.037125468254089355,\n",
       " 0.017749281600117683,\n",
       " 0.021403152495622635,\n",
       " -0.02042967639863491,\n",
       " 0.04723362252116203,\n",
       " -0.0005588323110714555,\n",
       " -0.07094378024339676,\n",
       " -0.01578899286687374,\n",
       " -0.042886316776275635,\n",
       " -0.003217140445485711,\n",
       " -0.037925586104393005,\n",
       " -0.00869461428374052,\n",
       " 0.03416503220796585,\n",
       " -0.027417371049523354,\n",
       " 0.001381870242767036,\n",
       " -0.020709717646241188,\n",
       " 0.03125793859362602,\n",
       " -0.03992588073015213,\n",
       " 0.020976422354578972,\n",
       " -0.01622905768454075,\n",
       " -0.0123418178409338,\n",
       " 0.016309069469571114,\n",
       " 0.003963917028158903,\n",
       " -0.01328862365335226,\n",
       " -0.05824857950210571,\n",
       " 0.0058942013420164585,\n",
       " 0.013188608922064304,\n",
       " 0.02545708231627941,\n",
       " -0.007967839948832989,\n",
       " -0.005534148309379816,\n",
       " -0.0023436786141246557,\n",
       " 0.030617842450737953,\n",
       " 0.05723509564995766,\n",
       " -0.013541994616389275,\n",
       " 0.009928128682076931,\n",
       " 0.049127236008644104,\n",
       " 0.02481698803603649,\n",
       " 0.04424651712179184,\n",
       " -0.015268915332853794,\n",
       " 0.0047707026824355125,\n",
       " 0.005390794016420841,\n",
       " 0.03333824500441551,\n",
       " -0.06198246404528618,\n",
       " -0.020162969827651978,\n",
       " -0.017655933275818825,\n",
       " -0.008607934229075909,\n",
       " -0.011054961942136288,\n",
       " -0.04520665854215622,\n",
       " 0.016975833103060722,\n",
       " 0.0004596510261762887,\n",
       " -0.025603771209716797,\n",
       " 0.007761143147945404,\n",
       " 0.030857877805829048,\n",
       " -0.04347306862473488,\n",
       " 0.07067707926034927,\n",
       " -0.02763073705136776,\n",
       " 0.017362557351589203,\n",
       " 0.0063409339636564255,\n",
       " 0.008494584821164608,\n",
       " -0.03947247937321663,\n",
       " 0.025910483673214912,\n",
       " 0.02413688786327839,\n",
       " 0.023643482476472855,\n",
       " -0.018336033448576927,\n",
       " 0.0056208278983831406,\n",
       " -0.025790465995669365,\n",
       " -0.01754925213754177,\n",
       " 0.010014808736741543,\n",
       " -0.042432915419340134,\n",
       " -0.021976569667458534,\n",
       " -0.01734922267496586,\n",
       " 0.03773889318108559,\n",
       " 0.02349679358303547,\n",
       " -0.010674905963242054,\n",
       " 0.04424651712179184,\n",
       " 0.006737659219652414,\n",
       " 0.01428210362792015,\n",
       " 0.028537536039948463,\n",
       " 0.022630000486969948,\n",
       " 0.020816398784518242,\n",
       " 0.023936858400702477,\n",
       " 0.03309820964932442,\n",
       " -0.01578899286687374,\n",
       " 0.03560524433851242,\n",
       " -0.0033288237173110247,\n",
       " -0.033631619065999985,\n",
       " 0.00012626859825104475,\n",
       " -0.032644808292388916,\n",
       " -0.01908281072974205,\n",
       " -0.02605717070400715,\n",
       " 0.0361119844019413,\n",
       " -0.008207875303924084,\n",
       " 0.013328629545867443,\n",
       " 0.03864569216966629,\n",
       " -0.01061489712446928,\n",
       " 0.014975539408624172,\n",
       " 0.0010784921469166875,\n",
       " 0.010334855876863003,\n",
       " -0.020416339859366417,\n",
       " -0.012888564728200436,\n",
       " -0.021989906206727028,\n",
       " 0.0015502283349633217,\n",
       " -0.009841449558734894,\n",
       " -0.007814484648406506,\n",
       " -0.013948720879852772,\n",
       " 0.006927687209099531,\n",
       " -0.007141051813960075,\n",
       " 0.046060118824243546,\n",
       " -0.04760701209306717,\n",
       " 0.006254254374653101,\n",
       " 0.02699064277112484,\n",
       " -0.02461695857346058,\n",
       " -0.0034171699080616236,\n",
       " -0.0017502577975392342,\n",
       " -0.028857583180069923,\n",
       " 0.030431149527430534,\n",
       " 0.04760701209306717,\n",
       " -0.012368488125503063,\n",
       " -0.0044839936308562756,\n",
       " -0.014242097735404968,\n",
       " -0.0016885820077732205,\n",
       " 0.0225099828094244,\n",
       " -0.020789729431271553,\n",
       " 0.02042967639863491,\n",
       " -0.026977306231856346,\n",
       " -0.045126646757125854,\n",
       " -0.024510277435183525,\n",
       " -0.022403299808502197,\n",
       " -0.030404478311538696,\n",
       " -0.0035938627552241087,\n",
       " -0.014948868192732334,\n",
       " 0.005707507487386465,\n",
       " 0.021336475387215614,\n",
       " -0.015428938902914524,\n",
       " 0.019202828407287598,\n",
       " 0.021843217313289642,\n",
       " -0.024896999821066856,\n",
       " -5.537274046218954e-05,\n",
       " 0.009328040294349194,\n",
       " 0.00770113430917263,\n",
       " 0.0018286026315763593,\n",
       " -0.05131422355771065,\n",
       " 0.007887828163802624,\n",
       " -0.03275148943066597,\n",
       " -0.01878943480551243,\n",
       " -0.012941906228661537,\n",
       " 0.003720548003911972,\n",
       " -0.0005046576843596995,\n",
       " -0.0036605391651391983,\n",
       " 0.005904202815145254,\n",
       " -0.0045706732198596,\n",
       " -0.04053930565714836,\n",
       " -0.026203859597444534,\n",
       " -0.014415456913411617,\n",
       " -0.03277816250920296,\n",
       " 0.016095703467726707,\n",
       " 0.014428791590034962,\n",
       " -0.016802474856376648,\n",
       " -0.005040742456912994,\n",
       " -0.05115419998764992,\n",
       " 0.02840418368577957,\n",
       " -0.011308331973850727,\n",
       " 0.002470363862812519,\n",
       " 0.027390701696276665,\n",
       " 0.003553856862708926,\n",
       " -0.0322180800139904,\n",
       " -0.012301811948418617,\n",
       " 0.04472658783197403,\n",
       " 0.05334119126200676,\n",
       " -0.009768105112016201,\n",
       " 0.04918057844042778,\n",
       " -0.022976716980338097,\n",
       " 0.009214690886437893,\n",
       " 0.005577488336712122,\n",
       " 0.002977105090394616,\n",
       " -0.026363883167505264,\n",
       " -0.014575480483472347,\n",
       " -0.020949753001332283,\n",
       " 0.020229646936058998,\n",
       " -0.05291445925831795,\n",
       " 0.01493553351610899,\n",
       " -0.021136445924639702,\n",
       " -0.0182826928794384,\n",
       " -0.010114823468029499,\n",
       " -0.01690915785729885,\n",
       " 0.008681278675794601,\n",
       " 0.016629116609692574,\n",
       " 0.0008388735586777329,\n",
       " -0.0030087765771895647,\n",
       " 0.03864569216966629,\n",
       " -0.01122165285050869,\n",
       " -0.026177188381552696,\n",
       " -0.004947395529597998,\n",
       " -0.03227141872048378,\n",
       " -0.010201502591371536,\n",
       " -0.010221505537629128,\n",
       " 0.0050907498225569725,\n",
       " -0.0037972258869558573,\n",
       " -0.03864569216966629,\n",
       " -0.002105310093611479,\n",
       " -0.011281661689281464,\n",
       " -0.019162822514772415,\n",
       " -0.023510130122303963,\n",
       " -0.00706770783290267,\n",
       " -0.005097417626529932,\n",
       " 0.012595188803970814,\n",
       " 0.01557562779635191,\n",
       " 0.015228909440338612,\n",
       " -0.018322698771953583,\n",
       " 0.003617199370637536,\n",
       " 0.02952434867620468,\n",
       " -0.035525232553482056,\n",
       " 0.011121638119220734,\n",
       " -0.0555281788110733,\n",
       " -0.003537187585607171,\n",
       " 0.08145199716091156,\n",
       " 0.014255433343350887,\n",
       " 0.053287848830223083,\n",
       " -0.008961319923400879,\n",
       " 0.05366123840212822,\n",
       " -0.0005084082367829978,\n",
       " -0.01594901643693447,\n",
       " -0.051687613129615784,\n",
       " -0.007767810951918364,\n",
       " 0.02609717659652233,\n",
       " -0.014362115412950516,\n",
       " -0.012295144610106945,\n",
       " 0.04184616357088089,\n",
       " 0.011294997297227383,\n",
       " 0.05448802560567856,\n",
       " 0.016922492533922195,\n",
       " 0.024630295112729073,\n",
       " 0.02026965282857418,\n",
       " -0.027577394619584084,\n",
       " 0.020096292719244957,\n",
       " -0.02779076062142849,\n",
       " 0.0017352555878460407,\n",
       " 0.011274994350969791,\n",
       " -0.004857382271438837,\n",
       " 0.038565680384635925,\n",
       " -0.036325350403785706,\n",
       " 0.0019252835772931576,\n",
       " -0.001461882027797401,\n",
       " -0.022003240883350372,\n",
       " -0.05883533135056496,\n",
       " 0.00846791360527277,\n",
       " 0.00814786646515131,\n",
       " -0.030857877805829048,\n",
       " -0.020122963935136795,\n",
       " -0.01866941712796688,\n",
       " -0.019389523193240166,\n",
       " -0.021043099462985992,\n",
       " 0.051340896636247635,\n",
       " 0.004784037824720144,\n",
       " 0.0026987309101969004,\n",
       " 0.017042510211467743,\n",
       " -0.023576805368065834,\n",
       " -0.001856940216384828,\n",
       " 0.004370643757283688,\n",
       " 0.008141199126839638,\n",
       " 0.010521549731492996,\n",
       " -0.03288484364748001,\n",
       " 0.0023036727216094732,\n",
       " 0.038112279027700424,\n",
       " -0.011975097469985485,\n",
       " -0.005340786650776863,\n",
       " -0.0193095114082098,\n",
       " -0.005420798435807228,\n",
       " -0.0289109256118536,\n",
       " -0.031017901375889778,\n",
       " 0.014575480483472347,\n",
       " -0.002337010810151696,\n",
       " 0.006967693101614714,\n",
       " -0.0025953822769224644,\n",
       " -0.019362851977348328,\n",
       " -0.005104084964841604,\n",
       " 0.037792231887578964,\n",
       " 0.020416339859366417,\n",
       " 0.0022820027079433203,\n",
       " -0.016629116609692574,\n",
       " 0.023603476583957672,\n",
       " -0.020256316289305687,\n",
       " 0.005557485390454531,\n",
       " 0.01454880926758051,\n",
       " 0.00926803145557642,\n",
       " -0.028350843116641045,\n",
       " -0.01093494426459074,\n",
       " -0.018816104158759117,\n",
       " -0.031711336225271225,\n",
       " 0.015375598333775997,\n",
       " -0.0003804727166425437,\n",
       " 0.02603050135076046,\n",
       " -0.010221505537629128,\n",
       " -0.017455903813242912,\n",
       " 0.018949458375573158,\n",
       " -0.04600677639245987,\n",
       " 0.008167869411408901,\n",
       " 0.013441979885101318,\n",
       " -0.0028904257342219353,\n",
       " -0.031551312655210495,\n",
       " -0.03883238509297371,\n",
       " -0.016562439501285553,\n",
       " -0.022363293915987015,\n",
       " -0.008454578928649426,\n",
       " 0.011888417415320873,\n",
       " 0.0021369813475757837,\n",
       " 0.023896852508187294,\n",
       " 0.017535915598273277,\n",
       " -0.02452361211180687,\n",
       " 0.02673727087676525,\n",
       " -0.048967212438583374,\n",
       " 0.02234995923936367,\n",
       " -0.010748249478638172,\n",
       " -0.030751196667551994,\n",
       " -0.05046076700091362,\n",
       " 0.017215868458151817,\n",
       " -0.003058783942833543,\n",
       " 0.010521549731492996,\n",
       " 0.024670301005244255,\n",
       " 0.017695939168334007,\n",
       " 0.0031004566699266434,\n",
       " -0.005000736564397812,\n",
       " -0.013041920959949493,\n",
       " -0.007474434096366167,\n",
       " 0.03720548003911972,\n",
       " -0.0034771787468343973,\n",
       " 0.00898132286965847,\n",
       " -0.013188608922064304,\n",
       " 0.006527628283947706,\n",
       " -0.025977158918976784,\n",
       " 0.00883463490754366,\n",
       " 0.044779930263757706,\n",
       " -0.02397686429321766,\n",
       " -0.038272302597761154,\n",
       " 0.01364200934767723,\n",
       " 0.003780556842684746,\n",
       " -0.0026687264908105135,\n",
       " -0.039845868945121765,\n",
       " 0.0057775177992880344,\n",
       " 0.007421093061566353,\n",
       " 0.007327746134251356,\n",
       " 0.018482722342014313,\n",
       " -0.042112868279218674,\n",
       " -0.043873127549886703,\n",
       " 0.016415750607848167,\n",
       " 0.0048840525560081005,\n",
       " -0.01237515639513731,\n",
       " -0.00031108749681152403,\n",
       " 0.043659765273332596,\n",
       " 0.03835231438279152,\n",
       " -0.012875230051577091,\n",
       " -0.0010951613076031208,\n",
       " -0.008587931282818317,\n",
       " -0.0027687412220984697,\n",
       " -0.026430560275912285,\n",
       " -0.003667206736281514,\n",
       " 0.049740660935640335,\n",
       " 0.02109644003212452,\n",
       " -0.02829750068485737,\n",
       " -0.013695350848138332,\n",
       " -0.004547336604446173,\n",
       " 0.0029654367826879025,\n",
       " -0.02760406583547592,\n",
       " 0.021936563774943352,\n",
       " -0.01266186498105526,\n",
       " 0.01693582721054554,\n",
       " 0.03163132444024086,\n",
       " 0.0060675605200231075,\n",
       " -0.016095703467726707,\n",
       " 0.03832564502954483,\n",
       " 0.016922492533922195,\n",
       " -0.03624533861875534,\n",
       " 0.020336328074336052,\n",
       " 0.018882781267166138,\n",
       " 0.017429234459996223,\n",
       " 0.04123273864388466,\n",
       " -0.019736239686608315,\n",
       " -0.019682899117469788,\n",
       " -0.046246811747550964,\n",
       " -0.034405067563056946,\n",
       " 0.017655933275818825,\n",
       " 0.01198843214660883,\n",
       " -0.03192470222711563,\n",
       " 0.012108449824154377,\n",
       " -0.03125793859362602,\n",
       " 0.027870772406458855,\n",
       " 0.014748838730156422,\n",
       " 0.007214395795017481,\n",
       " 0.004640683531761169,\n",
       " 0.006881013512611389,\n",
       " 0.00680433539673686,\n",
       " 0.006894348654896021,\n",
       " 0.004513998050242662,\n",
       " -0.026003830134868622,\n",
       " 0.010368193499743938,\n",
       " -0.031177924945950508,\n",
       " -0.03485846891999245,\n",
       " -0.016802474856376648,\n",
       " -0.020016280934214592,\n",
       " 0.010148161090910435,\n",
       " -0.013295291922986507,\n",
       " -0.025203712284564972,\n",
       " 0.000979310949333012,\n",
       " 0.024123553186655045,\n",
       " -0.035845279693603516,\n",
       " -0.024030206725001335,\n",
       " -0.024963676929473877,\n",
       " 0.026110513135790825,\n",
       " 0.01454880926758051,\n",
       " -0.016495762392878532,\n",
       " -0.027550725266337395,\n",
       " 0.01230847928673029,\n",
       " 0.0009809777839109302,\n",
       " 0.02029632218182087,\n",
       " 0.01461548637598753,\n",
       " 0.06448949873447418,\n",
       " 0.0150822214782238,\n",
       " -0.015989022329449654,\n",
       " -0.047046929597854614,\n",
       " -0.008427907712757587,\n",
       " 0.02955101989209652,\n",
       " -0.03419170156121254,\n",
       " 0.019842922687530518,\n",
       " -0.0470735989511013,\n",
       " 0.0012576852459460497,\n",
       " 0.0418194942176342,\n",
       " 0.004604011308401823,\n",
       " 0.009074670262634754,\n",
       " -0.0016702460125088692,\n",
       " 0.0029104286804795265,\n",
       " -0.013635342009365559,\n",
       " -0.0006096731522120535,\n",
       " 0.031044572591781616,\n",
       " -0.03688543289899826,\n",
       " 0.005397461820393801,\n",
       " -0.0059875487349927425,\n",
       " 0.025350401178002357,\n",
       " -0.018389375880360603,\n",
       " -0.03803226724267006,\n",
       " -0.006624308880418539,\n",
       " -0.0009751436300575733,\n",
       " 0.024376923218369484,\n",
       " -0.010408199392259121,\n",
       " -0.026363883167505264,\n",
       " -0.05504810810089111,\n",
       " -0.007101045921444893,\n",
       " 0.006220916286110878,\n",
       " 0.018869446590542793,\n",
       " 0.027190672233700752,\n",
       " -0.04405982419848442,\n",
       " 0.03389832749962807,\n",
       " 0.014415456913411617,\n",
       " -0.03189803287386894,\n",
       " 0.028030795976519585,\n",
       " -0.00933470856398344,\n",
       " -0.005487475078552961,\n",
       " -0.0056208278983831406,\n",
       " 0.017282545566558838,\n",
       " -0.012101782485842705,\n",
       " 0.018136003986001015,\n",
       " 0.0037405509501695633,\n",
       " -0.0038172288332134485,\n",
       " 0.01314193569123745,\n",
       " 0.02877757139503956,\n",
       " -0.020669711753726006,\n",
       " -0.03963250294327736,\n",
       " 0.012828555889427662,\n",
       " 0.03669873997569084,\n",
       " 0.019802916795015335,\n",
       " 0.02349679358303547,\n",
       " 0.004700692370533943,\n",
       " -0.005484140943735838,\n",
       " 0.026657259091734886,\n",
       " 0.04859382286667824,\n",
       " -0.02077639289200306,\n",
       " -0.022269947454333305,\n",
       " -0.01978958211839199,\n",
       " 0.0025653778575360775,\n",
       " -0.006680984050035477,\n",
       " 0.02372349426150322,\n",
       " -0.016509098932147026,\n",
       " -0.001139334519393742,\n",
       " 0.01086826715618372,\n",
       " 0.009341375902295113,\n",
       " 0.015228909440338612,\n",
       " -0.019389523193240166,\n",
       " -0.03493848070502281,\n",
       " -0.029977748170495033,\n",
       " 0.021989906206727028,\n",
       " 0.008094525896012783,\n",
       " -0.00591420428827405,\n",
       " -0.009894791059195995,\n",
       " 0.005774183664470911,\n",
       " -0.007914499379694462,\n",
       " -0.0061342366971075535,\n",
       " 0.008394570089876652,\n",
       " 0.0032004714012145996,\n",
       " 0.04040595144033432,\n",
       " 0.0015202239155769348,\n",
       " 0.01138167642056942,\n",
       " -0.013355300761759281,\n",
       " 0.01597568579018116,\n",
       " 0.01216845866292715,\n",
       " -0.0019102813675999641,\n",
       " 0.007481101900339127,\n",
       " -0.0042739626951515675,\n",
       " 0.020643040537834167,\n",
       " -0.001620238646864891,\n",
       " -0.005550817586481571,\n",
       " -0.014482133090496063,\n",
       " -0.006104232277721167,\n",
       " 0.0008522088755853474,\n",
       " -0.004784037824720144,\n",
       " 0.04643350467085838,\n",
       " 0.03144463151693344,\n",
       " -0.04261961206793785,\n",
       " 0.004860715940594673,\n",
       " -0.013535327278077602,\n",
       " -0.002463696291670203,\n",
       " -0.00819454062730074,\n",
       " -0.024243570864200592,\n",
       " 0.002735402900725603,\n",
       " 0.04683356359601021,\n",
       " -0.019216163083910942,\n",
       " -0.002737069735303521,\n",
       " 0.02500368282198906,\n",
       " 0.03147130087018013,\n",
       " 0.020723052322864532,\n",
       " -0.026083841919898987,\n",
       " -0.020643040537834167,\n",
       " 0.006770997308194637,\n",
       " 0.06150239333510399,\n",
       " -0.00361053179949522,\n",
       " -0.03192470222711563,\n",
       " 0.01690915785729885,\n",
       " 0.012801885604858398,\n",
       " 0.003352160332724452,\n",
       " 0.017655933275818825,\n",
       " 0.003907242324203253,\n",
       " 0.031177924945950508,\n",
       " 0.02397686429321766,\n",
       " -0.041579458862543106,\n",
       " -0.03595196083188057,\n",
       " 0.041952844709157944,\n",
       " -0.003827230306342244,\n",
       " ...]"
      ]
     },
     "execution_count": 16,
     "metadata": {},
     "output_type": "execute_result"
    }
   ],
   "source": [
    "get_embedding('man')"
   ]
  },
  {
   "cell_type": "code",
   "execution_count": 17,
   "id": "153e5770-6281-4d14-a7a8-1e1f98c3675b",
   "metadata": {},
   "outputs": [],
   "source": [
    "embed_model = \"text-embedding-3-small\"\n",
    "\n",
    "res = client.embeddings.create(\n",
    "    input= words, model=embed_model\n",
    ")"
   ]
  },
  {
   "cell_type": "code",
   "execution_count": null,
   "id": "c0a18bdf-06aa-4648-9508-21b5c6c6f93b",
   "metadata": {},
   "outputs": [],
   "source": [
    "#res"
   ]
  },
  {
   "cell_type": "code",
   "execution_count": 18,
   "id": "b06fc24b-dedf-46a6-8698-1193a18a941e",
   "metadata": {},
   "outputs": [
    {
     "data": {
      "text/plain": [
       "85"
      ]
     },
     "execution_count": 18,
     "metadata": {},
     "output_type": "execute_result"
    }
   ],
   "source": [
    "len(res.data)"
   ]
  },
  {
   "cell_type": "code",
   "execution_count": 19,
   "id": "57527c37-03f1-4d52-ab82-ef5b0576dfd4",
   "metadata": {},
   "outputs": [
    {
     "data": {
      "text/plain": [
       "1536"
      ]
     },
     "execution_count": 19,
     "metadata": {},
     "output_type": "execute_result"
    }
   ],
   "source": [
    "len(res.data[0].embedding)"
   ]
  },
  {
   "cell_type": "code",
   "execution_count": 20,
   "id": "9d53ae56-9ba8-4506-8add-65923dac0663",
   "metadata": {},
   "outputs": [
    {
     "data": {
      "text/plain": [
       "[0.038761477917432785,\n",
       " 0.00038446576218120754,\n",
       " 0.016608253121376038,\n",
       " 0.023912686854600906,\n",
       " -0.00939712580293417,\n",
       " -0.05896863341331482,\n",
       " -0.009657046757638454,\n",
       " 0.007844267413020134,\n",
       " -0.002955762669444084,\n",
       " -0.02369941771030426]"
      ]
     },
     "execution_count": 20,
     "metadata": {},
     "output_type": "execute_result"
    }
   ],
   "source": [
    "res.data[0].embedding[0:10]"
   ]
  },
  {
   "cell_type": "code",
   "execution_count": 21,
   "id": "231d9904-7931-4a13-aeed-f365c9c92f23",
   "metadata": {},
   "outputs": [],
   "source": [
    "e_words = []\n",
    "\n",
    "for i in range(len(words)):\n",
    "    e_words.append(res.data[i].embedding)"
   ]
  },
  {
   "cell_type": "code",
   "execution_count": 22,
   "id": "611f5a8e-b3f2-4f15-b894-2b96319a2e64",
   "metadata": {},
   "outputs": [
    {
     "data": {
      "text/plain": [
       "85"
      ]
     },
     "execution_count": 22,
     "metadata": {},
     "output_type": "execute_result"
    }
   ],
   "source": [
    "len(e_words)"
   ]
  },
  {
   "cell_type": "code",
   "execution_count": 23,
   "id": "fb9ee328-d3ff-4a8e-8d45-9ebe7c22d12b",
   "metadata": {},
   "outputs": [
    {
     "data": {
      "text/plain": [
       "(85, 1536)"
      ]
     },
     "execution_count": 23,
     "metadata": {},
     "output_type": "execute_result"
    }
   ],
   "source": [
    "e_words_np = np.array(e_words)\n",
    "\n",
    "e_words_np.shape"
   ]
  },
  {
   "cell_type": "code",
   "execution_count": 24,
   "id": "a186c2f8-879d-43ba-a6ed-cd32df1b2359",
   "metadata": {},
   "outputs": [],
   "source": [
    "# Create tsne object which will reduce data to 2 dimensions\n",
    "tsne = TSNE(n_components=2, perplexity=5)"
   ]
  },
  {
   "cell_type": "code",
   "execution_count": 25,
   "id": "1a2c62ff-fd1c-4f5d-ae61-764df26b876a",
   "metadata": {},
   "outputs": [],
   "source": [
    "e_words_2d = tsne.fit_transform(e_words_np)"
   ]
  },
  {
   "cell_type": "code",
   "execution_count": 26,
   "id": "fc451fac-cf80-4bca-81c7-2ecaf8db643d",
   "metadata": {},
   "outputs": [
    {
     "data": {
      "text/plain": [
       "(85, 2)"
      ]
     },
     "execution_count": 26,
     "metadata": {},
     "output_type": "execute_result"
    }
   ],
   "source": [
    "e_words_2d.shape"
   ]
  },
  {
   "cell_type": "code",
   "execution_count": 27,
   "id": "07f17401-a526-4de7-bd2f-5405178c48f6",
   "metadata": {},
   "outputs": [
    {
     "data": {
      "image/png": "[encoded data removed]",
      "text/plain": [
       "<Figure size 2000x1200 with 1 Axes>"
      ]
     },
     "metadata": {},
     "output_type": "display_data"
    }
   ],
   "source": [
    "plt.figure(figsize=(20, 12))\n",
    "\n",
    "for i in range (len(words)):\n",
    "    plt.scatter(e_words_2d[i,0], e_words_2d[i,1])\n",
    "\n",
    "# Add annotations\n",
    "for i in range(len(words)):\n",
    "    plt.annotate(words[i], (e_words_2d[i][0], e_words_2d[i][1]))\n",
    "\n",
    "plt.show()"
   ]
  },
  {
   "cell_type": "markdown",
   "id": "391e1734-ad83-4e9e-b14a-08a894eacc8a",
   "metadata": {},
   "source": [
    "# 4. Using Large Lanaguage Model (LLM) OpenAI GPT"
   ]
  },
  {
   "cell_type": "markdown",
   "id": "f6bccdf7-72f2-48b1-ab16-f8c72748e259",
   "metadata": {},
   "source": [
    "## 4.1 Install openai Python library if not yet\n",
    "```python\n",
    "!pip install openai\n",
    "```"
   ]
  },
  {
   "cell_type": "code",
   "execution_count": null,
   "id": "279cfcfc-1967-4177-8d3a-0580c28ada64",
   "metadata": {},
   "outputs": [],
   "source": [
    "!pip install openai"
   ]
  },
  {
   "cell_type": "code",
   "execution_count": 28,
   "id": "40ef99d5-613b-47c0-b02f-4084c33e6765",
   "metadata": {},
   "outputs": [],
   "source": [
    "import os\n",
    "from dotenv import load_dotenv\n",
    "\n",
    "import openai\n",
    "from openai import OpenAI"
   ]
  },
  {
   "cell_type": "code",
   "execution_count": 29,
   "id": "6bcbadd8-be37-4040-9ad8-48bd9f423724",
   "metadata": {},
   "outputs": [
    {
     "data": {
      "text/plain": [
       "True"
      ]
     },
     "execution_count": 29,
     "metadata": {},
     "output_type": "execute_result"
    }
   ],
   "source": [
    "load_dotenv()"
   ]
  },
  {
   "cell_type": "code",
   "execution_count": 30,
   "id": "77c927f8-1911-446d-95ab-39bce254d12e",
   "metadata": {},
   "outputs": [],
   "source": [
    "client = OpenAI()"
   ]
  },
  {
   "cell_type": "markdown",
   "id": "b54fff78-451e-4531-9194-fcda82e3144a",
   "metadata": {},
   "source": [
    "## 4.2. Call the openai API\n",
    "We will first have an Chat Completions example and then move to focus on the Responses API. We can use ***gpt-5*** or ***gpt-5-mini***, the latter being about one-fifth the cost. However, there are some instances where people may still utilize older models like instruct completions, for instance, ***text-davinci-003,*** which have distinct API interfaces. To streamline the process, we have also developed a helper function that makes API calls more convenient.\n",
    "\n"
   ]
  },
  {
   "cell_type": "markdown",
   "id": "83529454-3f5d-4ece-9f6e-33b38483de80",
   "metadata": {},
   "source": [
    "### 4.2.1 The following is a \"Chat Completions API\" example\n",
    "\n",
    "- model: the name of the model you want to use (e.g., gpt-5, gpt-5-mini, gpt-4o, gpt-4o-mini, etc.). "
   ]
  },
  {
   "cell_type": "code",
   "execution_count": 31,
   "id": "033c8def-cc39-4467-98d6-b0b528770917",
   "metadata": {},
   "outputs": [
    {
     "name": "stdout",
     "output_type": "stream",
     "text": [
      "Michael who?\n"
     ]
    }
   ],
   "source": [
    "response = client.chat.completions.create(\n",
    "    model=\"gpt-5-mini\",\n",
    "    messages=[\n",
    "        {\"role\": \"developer\", \"content\": \"You are a helpful assistant.\"},        \n",
    "        {\"role\": \"user\", \"content\": \"Knock knock.\"},\n",
    "        {\"role\": \"assistant\", \"content\": \"Who is there?\"},\n",
    "        {\"role\": \"user\", \"content\": \"Michael.\"}\n",
    "    ]\n",
    ")\n",
    "\n",
    "print(response.choices[0].message.content)"
   ]
  },
  {
   "cell_type": "markdown",
   "id": "187c90f6-d8f0-4cda-a9f7-9a64c54f494e",
   "metadata": {},
   "source": [
    "### 4.2.2 The following is an example to manually manage conversation state using responses API"
   ]
  },
  {
   "cell_type": "code",
   "execution_count": 32,
   "id": "873499cb-a6c1-4a70-990e-7324c496df3a",
   "metadata": {},
   "outputs": [
    {
     "name": "stdout",
     "output_type": "stream",
     "text": [
      "Michael who?\n"
     ]
    }
   ],
   "source": [
    "response = client.responses.create(\n",
    "    model=\"gpt-5-mini\",\n",
    "    instructions=\"You are a helpful assistant.\",\n",
    "    input=[\n",
    "        {\"role\": \"user\", \"content\": \"knock knock.\"},\n",
    "        {\"role\": \"assistant\", \"content\": \"Who's there?\"},\n",
    "        {\"role\": \"user\", \"content\": \"Michael.\"},\n",
    "    ],\n",
    ")\n",
    "\n",
    "print(response.output_text)"
   ]
  },
  {
   "cell_type": "code",
   "execution_count": null,
   "id": "7713de0f-1674-4906-a415-81d31c258a97",
   "metadata": {},
   "outputs": [],
   "source": []
  }
 ],
 "metadata": {
  "kernelspec": {
   "display_name": "Python 3",
   "language": "python",
   "name": "python3"
  },
  "language_info": {
   "codemirror_mode": {
    "name": "ipython",
    "version": 3
   },
   "file_extension": ".py",
   "mimetype": "text/x-python",
   "name": "python",
   "nbconvert_exporter": "python",
   "pygments_lexer": "ipython3",
   "version": "3.12.1"
  }
 },
 "nbformat": 4,
 "nbformat_minor": 5
}
